{
  "nbformat": 4,
  "nbformat_minor": 0,
  "metadata": {
    "colab": {
      "provenance": [],
      "authorship_tag": "ABX9TyPqg8Id3f8MQQbJG4x1Iz66",
      "include_colab_link": true
    },
    "kernelspec": {
      "name": "python3",
      "display_name": "Python 3"
    },
    "language_info": {
      "name": "python"
    }
  },
  "cells": [
    {
      "cell_type": "markdown",
      "metadata": {
        "id": "view-in-github",
        "colab_type": "text"
      },
      "source": [
        "<a href=\"https://colab.research.google.com/github/leegonzales/LangChainExamples/blob/main/BabyAGITesting.ipynb\" target=\"_parent\"><img src=\"https://colab.research.google.com/assets/colab-badge.svg\" alt=\"Open In Colab\"/></a>"
      ]
    },
    {
      "cell_type": "code",
      "execution_count": 12,
      "metadata": {
        "colab": {
          "base_uri": "https://localhost:8080/"
        },
        "id": "tcnoTJPCGtse",
        "outputId": "fe39575f-c4ff-42ac-ac0c-54ee842ffd6a"
      },
      "outputs": [
        {
          "output_type": "stream",
          "name": "stdout",
          "text": [
            "Looking in indexes: https://pypi.org/simple, https://us-python.pkg.dev/colab-wheels/public/simple/\n",
            "Requirement already satisfied: langchain in /usr/local/lib/python3.9/dist-packages (0.0.136)\n",
            "Requirement already satisfied: async-timeout<5.0.0,>=4.0.0 in /usr/local/lib/python3.9/dist-packages (from langchain) (4.0.2)\n",
            "Requirement already satisfied: tenacity<9.0.0,>=8.1.0 in /usr/local/lib/python3.9/dist-packages (from langchain) (8.2.2)\n",
            "Requirement already satisfied: aiohttp<4.0.0,>=3.8.3 in /usr/local/lib/python3.9/dist-packages (from langchain) (3.8.4)\n",
            "Requirement already satisfied: numpy<2,>=1 in /usr/local/lib/python3.9/dist-packages (from langchain) (1.22.4)\n",
            "Requirement already satisfied: PyYAML>=5.4.1 in /usr/local/lib/python3.9/dist-packages (from langchain) (6.0)\n",
            "Requirement already satisfied: dataclasses-json<0.6.0,>=0.5.7 in /usr/local/lib/python3.9/dist-packages (from langchain) (0.5.7)\n",
            "Requirement already satisfied: openapi-schema-pydantic<2.0,>=1.2 in /usr/local/lib/python3.9/dist-packages (from langchain) (1.2.4)\n",
            "Requirement already satisfied: pydantic<2,>=1 in /usr/local/lib/python3.9/dist-packages (from langchain) (1.10.7)\n",
            "Requirement already satisfied: requests<3,>=2 in /usr/local/lib/python3.9/dist-packages (from langchain) (2.27.1)\n",
            "Requirement already satisfied: SQLAlchemy<2,>=1 in /usr/local/lib/python3.9/dist-packages (from langchain) (1.4.47)\n",
            "Requirement already satisfied: attrs>=17.3.0 in /usr/local/lib/python3.9/dist-packages (from aiohttp<4.0.0,>=3.8.3->langchain) (22.2.0)\n",
            "Requirement already satisfied: aiosignal>=1.1.2 in /usr/local/lib/python3.9/dist-packages (from aiohttp<4.0.0,>=3.8.3->langchain) (1.3.1)\n",
            "Requirement already satisfied: yarl<2.0,>=1.0 in /usr/local/lib/python3.9/dist-packages (from aiohttp<4.0.0,>=3.8.3->langchain) (1.8.2)\n",
            "Requirement already satisfied: frozenlist>=1.1.1 in /usr/local/lib/python3.9/dist-packages (from aiohttp<4.0.0,>=3.8.3->langchain) (1.3.3)\n",
            "Requirement already satisfied: charset-normalizer<4.0,>=2.0 in /usr/local/lib/python3.9/dist-packages (from aiohttp<4.0.0,>=3.8.3->langchain) (2.0.12)\n",
            "Requirement already satisfied: multidict<7.0,>=4.5 in /usr/local/lib/python3.9/dist-packages (from aiohttp<4.0.0,>=3.8.3->langchain) (6.0.4)\n",
            "Requirement already satisfied: typing-inspect>=0.4.0 in /usr/local/lib/python3.9/dist-packages (from dataclasses-json<0.6.0,>=0.5.7->langchain) (0.8.0)\n",
            "Requirement already satisfied: marshmallow<4.0.0,>=3.3.0 in /usr/local/lib/python3.9/dist-packages (from dataclasses-json<0.6.0,>=0.5.7->langchain) (3.19.0)\n",
            "Requirement already satisfied: marshmallow-enum<2.0.0,>=1.5.1 in /usr/local/lib/python3.9/dist-packages (from dataclasses-json<0.6.0,>=0.5.7->langchain) (1.5.1)\n",
            "Requirement already satisfied: typing-extensions>=4.2.0 in /usr/local/lib/python3.9/dist-packages (from pydantic<2,>=1->langchain) (4.5.0)\n",
            "Requirement already satisfied: urllib3<1.27,>=1.21.1 in /usr/local/lib/python3.9/dist-packages (from requests<3,>=2->langchain) (1.26.15)\n",
            "Requirement already satisfied: idna<4,>=2.5 in /usr/local/lib/python3.9/dist-packages (from requests<3,>=2->langchain) (3.4)\n",
            "Requirement already satisfied: certifi>=2017.4.17 in /usr/local/lib/python3.9/dist-packages (from requests<3,>=2->langchain) (2022.12.7)\n",
            "Requirement already satisfied: greenlet!=0.4.17 in /usr/local/lib/python3.9/dist-packages (from SQLAlchemy<2,>=1->langchain) (2.0.2)\n",
            "Requirement already satisfied: packaging>=17.0 in /usr/local/lib/python3.9/dist-packages (from marshmallow<4.0.0,>=3.3.0->dataclasses-json<0.6.0,>=0.5.7->langchain) (23.0)\n",
            "Requirement already satisfied: mypy-extensions>=0.3.0 in /usr/local/lib/python3.9/dist-packages (from typing-inspect>=0.4.0->dataclasses-json<0.6.0,>=0.5.7->langchain) (1.0.0)\n"
          ]
        }
      ],
      "source": [
        "pip install langchain "
      ]
    },
    {
      "cell_type": "code",
      "source": [
        "pip install openai"
      ],
      "metadata": {
        "colab": {
          "base_uri": "https://localhost:8080/"
        },
        "id": "bLByyAXeK4h-",
        "outputId": "fec9b85b-1f23-4396-8b25-61e26eda368b"
      },
      "execution_count": 13,
      "outputs": [
        {
          "output_type": "stream",
          "name": "stdout",
          "text": [
            "Looking in indexes: https://pypi.org/simple, https://us-python.pkg.dev/colab-wheels/public/simple/\n",
            "Collecting openai\n",
            "  Downloading openai-0.27.4-py3-none-any.whl (70 kB)\n",
            "\u001b[2K     \u001b[90m━━━━━━━━━━━━━━━━━━━━━━━━━━━━━━━━━━━━━━━━\u001b[0m \u001b[32m70.3/70.3 kB\u001b[0m \u001b[31m8.6 MB/s\u001b[0m eta \u001b[36m0:00:00\u001b[0m\n",
            "\u001b[?25hRequirement already satisfied: aiohttp in /usr/local/lib/python3.9/dist-packages (from openai) (3.8.4)\n",
            "Requirement already satisfied: tqdm in /usr/local/lib/python3.9/dist-packages (from openai) (4.65.0)\n",
            "Requirement already satisfied: requests>=2.20 in /usr/local/lib/python3.9/dist-packages (from openai) (2.27.1)\n",
            "Requirement already satisfied: certifi>=2017.4.17 in /usr/local/lib/python3.9/dist-packages (from requests>=2.20->openai) (2022.12.7)\n",
            "Requirement already satisfied: charset-normalizer~=2.0.0 in /usr/local/lib/python3.9/dist-packages (from requests>=2.20->openai) (2.0.12)\n",
            "Requirement already satisfied: urllib3<1.27,>=1.21.1 in /usr/local/lib/python3.9/dist-packages (from requests>=2.20->openai) (1.26.15)\n",
            "Requirement already satisfied: idna<4,>=2.5 in /usr/local/lib/python3.9/dist-packages (from requests>=2.20->openai) (3.4)\n",
            "Requirement already satisfied: frozenlist>=1.1.1 in /usr/local/lib/python3.9/dist-packages (from aiohttp->openai) (1.3.3)\n",
            "Requirement already satisfied: attrs>=17.3.0 in /usr/local/lib/python3.9/dist-packages (from aiohttp->openai) (22.2.0)\n",
            "Requirement already satisfied: aiosignal>=1.1.2 in /usr/local/lib/python3.9/dist-packages (from aiohttp->openai) (1.3.1)\n",
            "Requirement already satisfied: async-timeout<5.0,>=4.0.0a3 in /usr/local/lib/python3.9/dist-packages (from aiohttp->openai) (4.0.2)\n",
            "Requirement already satisfied: multidict<7.0,>=4.5 in /usr/local/lib/python3.9/dist-packages (from aiohttp->openai) (6.0.4)\n",
            "Requirement already satisfied: yarl<2.0,>=1.0 in /usr/local/lib/python3.9/dist-packages (from aiohttp->openai) (1.8.2)\n",
            "Installing collected packages: openai\n",
            "Successfully installed openai-0.27.4\n"
          ]
        }
      ]
    },
    {
      "cell_type": "code",
      "source": [
        "pip install faiss-cpu"
      ],
      "metadata": {
        "colab": {
          "base_uri": "https://localhost:8080/"
        },
        "id": "kRH6mYOeLIVA",
        "outputId": "181c5fbb-ac60-42d8-9dd1-7d63ddd28249"
      },
      "execution_count": 18,
      "outputs": [
        {
          "output_type": "stream",
          "name": "stdout",
          "text": [
            "Looking in indexes: https://pypi.org/simple, https://us-python.pkg.dev/colab-wheels/public/simple/\n",
            "Collecting faiss-cpu\n",
            "  Downloading faiss_cpu-1.7.3-cp39-cp39-manylinux_2_17_x86_64.manylinux2014_x86_64.whl (17.0 MB)\n",
            "\u001b[2K     \u001b[90m━━━━━━━━━━━━━━━━━━━━━━━━━━━━━━━━━━━━━━━━\u001b[0m \u001b[32m17.0/17.0 MB\u001b[0m \u001b[31m71.0 MB/s\u001b[0m eta \u001b[36m0:00:00\u001b[0m\n",
            "\u001b[?25hInstalling collected packages: faiss-cpu\n",
            "Successfully installed faiss-cpu-1.7.3\n"
          ]
        }
      ]
    },
    {
      "cell_type": "code",
      "source": [
        "pip install tiktoken"
      ],
      "metadata": {
        "colab": {
          "base_uri": "https://localhost:8080/"
        },
        "id": "UQJn8FSQMJA6",
        "outputId": "696d0ce9-8e6c-4ede-851f-b29b726016c2"
      },
      "execution_count": 34,
      "outputs": [
        {
          "output_type": "stream",
          "name": "stdout",
          "text": [
            "Looking in indexes: https://pypi.org/simple, https://us-python.pkg.dev/colab-wheels/public/simple/\n",
            "Collecting tiktoken\n",
            "  Downloading tiktoken-0.3.3-cp39-cp39-manylinux_2_17_x86_64.manylinux2014_x86_64.whl (1.7 MB)\n",
            "\u001b[2K     \u001b[90m━━━━━━━━━━━━━━━━━━━━━━━━━━━━━━━━━━━━━━━━\u001b[0m \u001b[32m1.7/1.7 MB\u001b[0m \u001b[31m44.4 MB/s\u001b[0m eta \u001b[36m0:00:00\u001b[0m\n",
            "\u001b[?25hRequirement already satisfied: regex>=2022.1.18 in /usr/local/lib/python3.9/dist-packages (from tiktoken) (2022.10.31)\n",
            "Requirement already satisfied: requests>=2.26.0 in /usr/local/lib/python3.9/dist-packages (from tiktoken) (2.27.1)\n",
            "Requirement already satisfied: urllib3<1.27,>=1.21.1 in /usr/local/lib/python3.9/dist-packages (from requests>=2.26.0->tiktoken) (1.26.15)\n",
            "Requirement already satisfied: idna<4,>=2.5 in /usr/local/lib/python3.9/dist-packages (from requests>=2.26.0->tiktoken) (3.4)\n",
            "Requirement already satisfied: certifi>=2017.4.17 in /usr/local/lib/python3.9/dist-packages (from requests>=2.26.0->tiktoken) (2022.12.7)\n",
            "Requirement already satisfied: charset-normalizer~=2.0.0 in /usr/local/lib/python3.9/dist-packages (from requests>=2.26.0->tiktoken) (2.0.12)\n",
            "Installing collected packages: tiktoken\n",
            "Successfully installed tiktoken-0.3.3\n"
          ]
        }
      ]
    },
    {
      "cell_type": "code",
      "source": [
        "import os\n",
        "from getpass import getpass\n",
        "\n",
        "os.environ['OPENAI_API_KEY'] = getpass('Enter your OPENAI_API_KEY key: ')\n",
        "\n",
        "from collections import deque\n",
        "from typing import Dict, List, Optional, Any\n",
        "\n",
        "from langchain import LLMChain, OpenAI, PromptTemplate\n",
        "from langchain.embeddings import OpenAIEmbeddings\n",
        "from langchain.llms import BaseLLM\n",
        "from langchain.vectorstores.base import VectorStore\n",
        "from pydantic import BaseModel, Field\n",
        "from langchain.chains.base import Chain"
      ],
      "metadata": {
        "colab": {
          "base_uri": "https://localhost:8080/"
        },
        "id": "4CgFBqmRJ5hA",
        "outputId": "4066fe7c-6d08-4638-87bc-54b63ed86f9e"
      },
      "execution_count": 19,
      "outputs": [
        {
          "name": "stdout",
          "output_type": "stream",
          "text": [
            "Enter your OPENAI_API_KEY key: ··········\n"
          ]
        }
      ]
    },
    {
      "cell_type": "code",
      "source": [
        "from langchain.vectorstores import FAISS\n",
        "from langchain.docstore import InMemoryDocstore"
      ],
      "metadata": {
        "id": "rJS4Dm-EJ90h"
      },
      "execution_count": 20,
      "outputs": []
    },
    {
      "cell_type": "code",
      "source": [
        "# Define your embedding model\n",
        "embeddings_model = OpenAIEmbeddings()\n",
        "# Initialize the vectorstore as empty\n",
        "import faiss\n",
        "embedding_size = 1536\n",
        "index = faiss.IndexFlatL2(embedding_size)\n",
        "vectorstore = FAISS(embeddings_model.embed_query, index, InMemoryDocstore({}), {})"
      ],
      "metadata": {
        "id": "LVbXkBnpKAaE"
      },
      "execution_count": 21,
      "outputs": []
    },
    {
      "cell_type": "code",
      "source": [
        "class TaskCreationChain(LLMChain):\n",
        "    \"\"\"Chain to generates tasks.\"\"\"\n",
        "\n",
        "    @classmethod\n",
        "    def from_llm(cls, llm: BaseLLM, verbose: bool = True) -> LLMChain:\n",
        "        \"\"\"Get the response parser.\"\"\"\n",
        "        task_creation_template = (\n",
        "            \"You are an task creation AI that uses the result of an execution agent\"\n",
        "            \" to create new tasks with the following objective: {objective},\"\n",
        "            \" The last completed task has the result: {result}.\"\n",
        "            \" This result was based on this task description: {task_description}.\"\n",
        "            \" These are incomplete tasks: {incomplete_tasks}.\"\n",
        "            \" Based on the result, create new tasks to be completed\"\n",
        "            \" by the AI system that do not overlap with incomplete tasks.\"\n",
        "            \" Return the tasks as an array.\"\n",
        "        )\n",
        "        prompt = PromptTemplate(\n",
        "            template=task_creation_template,\n",
        "            input_variables=[\"result\", \"task_description\", \"incomplete_tasks\", \"objective\"],\n",
        "        )\n",
        "        return cls(prompt=prompt, llm=llm, verbose=verbose)"
      ],
      "metadata": {
        "id": "paKjGycwLgnD"
      },
      "execution_count": 22,
      "outputs": []
    },
    {
      "cell_type": "code",
      "source": [
        "class TaskPrioritizationChain(LLMChain):\n",
        "    \"\"\"Chain to prioritize tasks.\"\"\"\n",
        "\n",
        "    @classmethod\n",
        "    def from_llm(cls, llm: BaseLLM, verbose: bool = True) -> LLMChain:\n",
        "        \"\"\"Get the response parser.\"\"\"\n",
        "        task_prioritization_template = (\n",
        "            \"You are an task prioritization AI tasked with cleaning the formatting of and reprioritizing\"\n",
        "            \" the following tasks: {task_names}.\"\n",
        "            \" Consider the ultimate objective of your team: {objective}.\"\n",
        "            \" Do not remove any tasks. Return the result as a numbered list, like:\"\n",
        "            \" #. First task\"\n",
        "            \" #. Second task\"\n",
        "            \" Start the task list with number {next_task_id}.\"\n",
        "        )\n",
        "        prompt = PromptTemplate(\n",
        "            template=task_prioritization_template,\n",
        "            input_variables=[\"task_names\", \"next_task_id\", \"objective\"],\n",
        "        )\n",
        "        return cls(prompt=prompt, llm=llm, verbose=verbose)"
      ],
      "metadata": {
        "id": "IuiamdRALjYg"
      },
      "execution_count": 23,
      "outputs": []
    },
    {
      "cell_type": "code",
      "source": [
        "class ExecutionChain(LLMChain):\n",
        "    \"\"\"Chain to execute tasks.\"\"\"\n",
        "\n",
        "    @classmethod\n",
        "    def from_llm(cls, llm: BaseLLM, verbose: bool = True) -> LLMChain:\n",
        "        \"\"\"Get the response parser.\"\"\"\n",
        "        execution_template = (\n",
        "            \"You are an AI who performs one task based on the following objective: {objective}.\"\n",
        "            \" Take into account these previously completed tasks: {context}.\"\n",
        "            \" Your task: {task}.\"\n",
        "            \" Response:\"\n",
        "        )\n",
        "        prompt = PromptTemplate(\n",
        "            template=execution_template,\n",
        "            input_variables=[\"objective\", \"context\", \"task\"],\n",
        "        )\n",
        "        return cls(prompt=prompt, llm=llm, verbose=verbose)"
      ],
      "metadata": {
        "id": "ST8yNqkCLk9x"
      },
      "execution_count": 24,
      "outputs": []
    },
    {
      "cell_type": "code",
      "source": [
        "def get_next_task(task_creation_chain: LLMChain, result: Dict, task_description: str, task_list: List[str], objective: str) -> List[Dict]:\n",
        "    \"\"\"Get the next task.\"\"\"\n",
        "    incomplete_tasks = \", \".join(task_list)\n",
        "    response = task_creation_chain.run(result=result, task_description=task_description, incomplete_tasks=incomplete_tasks, objective=objective)\n",
        "    new_tasks = response.split('\\n')\n",
        "    return [{\"task_name\": task_name} for task_name in new_tasks if task_name.strip()]"
      ],
      "metadata": {
        "id": "mpH7X7nNLoSJ"
      },
      "execution_count": 25,
      "outputs": []
    },
    {
      "cell_type": "code",
      "source": [
        "def prioritize_tasks(task_prioritization_chain: LLMChain, this_task_id: int, task_list: List[Dict], objective: str) -> List[Dict]:\n",
        "    \"\"\"Prioritize tasks.\"\"\"\n",
        "    task_names = [t[\"task_name\"] for t in task_list]\n",
        "    next_task_id = int(this_task_id) + 1\n",
        "    response = task_prioritization_chain.run(task_names=task_names, next_task_id=next_task_id, objective=objective)\n",
        "    new_tasks = response.split('\\n')\n",
        "    prioritized_task_list = []\n",
        "    for task_string in new_tasks:\n",
        "        if not task_string.strip():\n",
        "            continue\n",
        "        task_parts = task_string.strip().split(\".\", 1)\n",
        "        if len(task_parts) == 2:\n",
        "            task_id = task_parts[0].strip()\n",
        "            task_name = task_parts[1].strip()\n",
        "            prioritized_task_list.append({\"task_id\": task_id, \"task_name\": task_name})\n",
        "    return prioritized_task_list"
      ],
      "metadata": {
        "id": "ijl8dYRoLpP-"
      },
      "execution_count": 26,
      "outputs": []
    },
    {
      "cell_type": "code",
      "source": [
        "def _get_top_tasks(vectorstore, query: str, k: int) -> List[str]:\n",
        "    \"\"\"Get the top k tasks based on the query.\"\"\"\n",
        "    results = vectorstore.similarity_search_with_score(query, k=k)\n",
        "    if not results:\n",
        "        return []\n",
        "    sorted_results, _ = zip(*sorted(results, key=lambda x: x[1], reverse=True))\n",
        "    return [str(item.metadata['task']) for item in sorted_results]\n",
        "\n",
        "def execute_task(vectorstore, execution_chain: LLMChain, objective: str, task: str, k: int = 5) -> str:\n",
        "    \"\"\"Execute a task.\"\"\"\n",
        "    context = _get_top_tasks(vectorstore, query=objective, k=k)\n",
        "    return execution_chain.run(objective=objective, context=context, task=task)"
      ],
      "metadata": {
        "id": "NpMdLIAuLrbj"
      },
      "execution_count": 27,
      "outputs": []
    },
    {
      "cell_type": "code",
      "source": [
        "class BabyAGI(Chain, BaseModel):\n",
        "    \"\"\"Controller model for the BabyAGI agent.\"\"\"\n",
        "\n",
        "    task_list: deque = Field(default_factory=deque)\n",
        "    task_creation_chain: TaskCreationChain = Field(...)\n",
        "    task_prioritization_chain: TaskPrioritizationChain = Field(...)\n",
        "    execution_chain: ExecutionChain = Field(...)\n",
        "    task_id_counter: int = Field(1)\n",
        "    vectorstore: VectorStore = Field(init=False)\n",
        "    max_iterations: Optional[int] = None\n",
        "        \n",
        "    class Config:\n",
        "        \"\"\"Configuration for this pydantic object.\"\"\"\n",
        "        arbitrary_types_allowed = True\n",
        "\n",
        "    def add_task(self, task: Dict):\n",
        "        self.task_list.append(task)\n",
        "\n",
        "    def print_task_list(self):\n",
        "        print(\"\\033[95m\\033[1m\" + \"\\n*****TASK LIST*****\\n\" + \"\\033[0m\\033[0m\")\n",
        "        for t in self.task_list:\n",
        "            print(str(t[\"task_id\"]) + \": \" + t[\"task_name\"])\n",
        "\n",
        "    def print_next_task(self, task: Dict):\n",
        "        print(\"\\033[92m\\033[1m\" + \"\\n*****NEXT TASK*****\\n\" + \"\\033[0m\\033[0m\")\n",
        "        print(str(task[\"task_id\"]) + \": \" + task[\"task_name\"])\n",
        "\n",
        "    def print_task_result(self, result: str):\n",
        "        print(\"\\033[93m\\033[1m\" + \"\\n*****TASK RESULT*****\\n\" + \"\\033[0m\\033[0m\")\n",
        "        print(result)\n",
        "        \n",
        "    @property\n",
        "    def input_keys(self) -> List[str]:\n",
        "        return [\"objective\"]\n",
        "    \n",
        "    @property\n",
        "    def output_keys(self) -> List[str]:\n",
        "        return []\n",
        "\n",
        "    def _call(self, inputs: Dict[str, Any]) -> Dict[str, Any]:\n",
        "        \"\"\"Run the agent.\"\"\"\n",
        "        objective = inputs['objective']\n",
        "        first_task = inputs.get(\"first_task\", \"Make a todo list\")\n",
        "        self.add_task({\"task_id\": 1, \"task_name\": first_task})\n",
        "        num_iters = 0\n",
        "        while True:\n",
        "            if self.task_list:\n",
        "                self.print_task_list()\n",
        "\n",
        "                # Step 1: Pull the first task\n",
        "                task = self.task_list.popleft()\n",
        "                self.print_next_task(task)\n",
        "\n",
        "                # Step 2: Execute the task\n",
        "                result = execute_task(\n",
        "                    self.vectorstore, self.execution_chain, objective, task[\"task_name\"]\n",
        "                )\n",
        "                this_task_id = int(task[\"task_id\"])\n",
        "                self.print_task_result(result)\n",
        "\n",
        "                # Step 3: Store the result in Pinecone\n",
        "                result_id = f\"result_{task['task_id']}\"\n",
        "                self.vectorstore.add_texts(\n",
        "                    texts=[result],\n",
        "                    metadatas=[{\"task\": task[\"task_name\"]}],\n",
        "                    ids=[result_id],\n",
        "                )\n",
        "\n",
        "                # Step 4: Create new tasks and reprioritize task list\n",
        "                new_tasks = get_next_task(\n",
        "                    self.task_creation_chain, result, task[\"task_name\"], [t[\"task_name\"] for t in self.task_list], objective\n",
        "                )\n",
        "                for new_task in new_tasks:\n",
        "                    self.task_id_counter += 1\n",
        "                    new_task.update({\"task_id\": self.task_id_counter})\n",
        "                    self.add_task(new_task)\n",
        "                self.task_list = deque(\n",
        "                    prioritize_tasks(\n",
        "                        self.task_prioritization_chain, this_task_id, list(self.task_list), objective\n",
        "                    )\n",
        "                )\n",
        "            num_iters += 1\n",
        "            if self.max_iterations is not None and num_iters == self.max_iterations:\n",
        "                print(\"\\033[91m\\033[1m\" + \"\\n*****TASK ENDING*****\\n\" + \"\\033[0m\\033[0m\")\n",
        "                break\n",
        "        return {}\n",
        "\n",
        "    @classmethod\n",
        "    def from_llm(\n",
        "        cls,\n",
        "        llm: BaseLLM,\n",
        "        vectorstore: VectorStore,\n",
        "        verbose: bool = False,\n",
        "        **kwargs\n",
        "    ) -> \"BabyAGI\":\n",
        "        \"\"\"Initialize the BabyAGI Controller.\"\"\"\n",
        "        task_creation_chain = TaskCreationChain.from_llm(\n",
        "            llm, verbose=verbose\n",
        "        )\n",
        "        task_prioritization_chain = TaskPrioritizationChain.from_llm(\n",
        "            llm, verbose=verbose\n",
        "        )\n",
        "        execution_chain = ExecutionChain.from_llm(llm, verbose=verbose)\n",
        "        return cls(\n",
        "            task_creation_chain=task_creation_chain,\n",
        "            task_prioritization_chain=task_prioritization_chain,\n",
        "            execution_chain=execution_chain,\n",
        "            vectorstore=vectorstore,\n",
        "            **kwargs\n",
        "        )"
      ],
      "metadata": {
        "id": "28T9onVXLu-p"
      },
      "execution_count": 28,
      "outputs": []
    },
    {
      "cell_type": "code",
      "source": [
        "OBJECTIVE = \"Plan and refine a 3 day trip to San Francisco, I want to stay in a nice hotel, look at some art, and have a really good meal.\""
      ],
      "metadata": {
        "id": "beH8g50jLwwd"
      },
      "execution_count": 48,
      "outputs": []
    },
    {
      "cell_type": "code",
      "source": [
        "llm = OpenAI(temperature=.5)"
      ],
      "metadata": {
        "id": "u8YNEcPlL0x3"
      },
      "execution_count": 50,
      "outputs": []
    },
    {
      "cell_type": "code",
      "source": [
        "# Logging of LLMChains\n",
        "verbose=True\n",
        "# If None, will keep on going forever\n",
        "max_iterations: Optional[int] = 3\n",
        "baby_agi = BabyAGI.from_llm(\n",
        "    llm=llm,\n",
        "    vectorstore=vectorstore,\n",
        "    verbose=verbose,\n",
        "    max_iterations=max_iterations\n",
        ")"
      ],
      "metadata": {
        "id": "1AMj7lF9L2-T"
      },
      "execution_count": 53,
      "outputs": []
    },
    {
      "cell_type": "code",
      "source": [
        "baby_agi({\"objective\": OBJECTIVE})"
      ],
      "metadata": {
        "colab": {
          "base_uri": "https://localhost:8080/"
        },
        "id": "F_0SvaMaL-OL",
        "outputId": "7c49e7d9-81ff-4019-bee5-2b73011159f6"
      },
      "execution_count": 54,
      "outputs": [
        {
          "output_type": "stream",
          "name": "stdout",
          "text": [
            "\u001b[95m\u001b[1m\n",
            "*****TASK LIST*****\n",
            "\u001b[0m\u001b[0m\n",
            "1: Make a todo list\n",
            "\u001b[92m\u001b[1m\n",
            "*****NEXT TASK*****\n",
            "\u001b[0m\u001b[0m\n",
            "1: Make a todo list\n",
            "\n",
            "\n",
            "\u001b[1m> Entering new ExecutionChain chain...\u001b[0m\n",
            "Prompt after formatting:\n",
            "\u001b[32;1m\u001b[1;3mYou are an AI who performs one task based on the following objective: Plan and refine a 3 day trip to San Francisco, I want to stay in a nice hotel, look at some art, and have a really good meal.. Take into account these previously completed tasks: ['Create a budget for the 3-day trip.', 'Research and book any necessary tours or guided activities.', 'Make a todo list', 'Research and compare prices, ratings, and reviews of hotels in San Francisco to determine the best option for the budget.', 'Plan an itinerary for the 3-day trip, taking into account any activities, attractions, transportation, and accommodation booked.']. Your task: Make a todo list. Response:\u001b[0m\n",
            "\n",
            "\u001b[1m> Finished chain.\u001b[0m\n",
            "\u001b[93m\u001b[1m\n",
            "*****TASK RESULT*****\n",
            "\u001b[0m\u001b[0m\n",
            "\n",
            "\n",
            "1. Make a list of attractions to visit during the 3-day trip.\n",
            "2. Research and compare prices, ratings, and reviews of restaurants in San Francisco to determine the best option for the budget.\n",
            "3. Research and book any necessary tours or guided activities.\n",
            "4. Make a list of any additional items to pack for the trip.\n",
            "5. Research and compare prices, ratings, and reviews of transportation options in San Francisco to determine the best option for the budget.\n",
            "6. Research and compare prices, ratings, and reviews of hotels in San Francisco to determine the best option for the budget.\n",
            "7. Book the hotel.\n",
            "8. Book any necessary tours or guided activities.\n",
            "9. Book transportation to and from San Francisco.\n",
            "10. Make a list of items to buy while in San Francisco.\n",
            "11. Plan an itinerary for the 3-day trip, taking into account any activities, attractions, transportation, and accommodation booked.\n",
            "12. Make a list of items to purchase for the trip.\n",
            "13. Make a list of any additional items needed for the trip.\n",
            "14. Make a list of emergency contacts to have on hand during the trip.\n",
            "15. Make a list of any additional activities to do\n",
            "\n",
            "\n",
            "\u001b[1m> Entering new TaskCreationChain chain...\u001b[0m\n",
            "Prompt after formatting:\n",
            "\u001b[32;1m\u001b[1;3mYou are an task creation AI that uses the result of an execution agent to create new tasks with the following objective: Plan and refine a 3 day trip to San Francisco, I want to stay in a nice hotel, look at some art, and have a really good meal., The last completed task has the result: \n",
            "\n",
            "1. Make a list of attractions to visit during the 3-day trip.\n",
            "2. Research and compare prices, ratings, and reviews of restaurants in San Francisco to determine the best option for the budget.\n",
            "3. Research and book any necessary tours or guided activities.\n",
            "4. Make a list of any additional items to pack for the trip.\n",
            "5. Research and compare prices, ratings, and reviews of transportation options in San Francisco to determine the best option for the budget.\n",
            "6. Research and compare prices, ratings, and reviews of hotels in San Francisco to determine the best option for the budget.\n",
            "7. Book the hotel.\n",
            "8. Book any necessary tours or guided activities.\n",
            "9. Book transportation to and from San Francisco.\n",
            "10. Make a list of items to buy while in San Francisco.\n",
            "11. Plan an itinerary for the 3-day trip, taking into account any activities, attractions, transportation, and accommodation booked.\n",
            "12. Make a list of items to purchase for the trip.\n",
            "13. Make a list of any additional items needed for the trip.\n",
            "14. Make a list of emergency contacts to have on hand during the trip.\n",
            "15. Make a list of any additional activities to do. This result was based on this task description: Make a todo list. These are incomplete tasks: . Based on the result, create new tasks to be completed by the AI system that do not overlap with incomplete tasks. Return the tasks as an array.\u001b[0m\n",
            "\n",
            "\u001b[1m> Finished chain.\u001b[0m\n",
            "\n",
            "\n",
            "\u001b[1m> Entering new TaskPrioritizationChain chain...\u001b[0m\n",
            "Prompt after formatting:\n",
            "\u001b[32;1m\u001b[1;3mYou are an task prioritization AI tasked with cleaning the formatting of and reprioritizing the following tasks: ['1. Research and compare prices, ratings, and reviews of art galleries and museums in San Francisco.', '2. Research and compare prices, ratings, and reviews of activities and attractions in San Francisco.', '3. Research and compare prices, ratings, and reviews of transportation options from the hotel to attractions in San Francisco.', '4. Make a list of any additional items to purchase for the trip.', '5. Make a list of any additional items needed for the trip.', '6. Research and compare prices, ratings, and reviews of restaurants near the attractions in San Francisco.', '7. Plan a budget for the 3-day trip.', '8. Research and compare prices, ratings, and reviews of entertainment options in San Francisco.', '9. Make a list of emergency contacts to have on hand during the trip.', '10. Research and compare prices, ratings, and reviews of any additional activities to do in San Francisco.']. Consider the ultimate objective of your team: Plan and refine a 3 day trip to San Francisco, I want to stay in a nice hotel, look at some art, and have a really good meal.. Do not remove any tasks. Return the result as a numbered list, like: #. First task #. Second task Start the task list with number 2.\u001b[0m\n",
            "\n",
            "\u001b[1m> Finished chain.\u001b[0m\n",
            "\u001b[95m\u001b[1m\n",
            "*****TASK LIST*****\n",
            "\u001b[0m\u001b[0m\n",
            "2: Plan a budget for the 3-day trip.\n",
            "3: Research and compare prices, ratings, and reviews of transportation options from the hotel to attractions in San Francisco.\n",
            "4: Research and compare prices, ratings, and reviews of activities and attractions in San Francisco.\n",
            "5: Research and compare prices, ratings, and reviews of art galleries and museums in San Francisco.\n",
            "6: Research and compare prices, ratings, and reviews of restaurants near the attractions in San Francisco.\n",
            "7: Research and compare prices, ratings, and reviews of entertainment options in San Francisco.\n",
            "8: Research and compare prices, ratings, and reviews of any additional activities to do in San Francisco.\n",
            "9: Make a list of any additional items needed for the trip.\n",
            "10: Make a list of any additional items to purchase for the trip.\n",
            "11: Make a list of emergency contacts to have on hand during the trip.\n",
            "\u001b[92m\u001b[1m\n",
            "*****NEXT TASK*****\n",
            "\u001b[0m\u001b[0m\n",
            "2: Plan a budget for the 3-day trip.\n",
            "\n",
            "\n",
            "\u001b[1m> Entering new ExecutionChain chain...\u001b[0m\n",
            "Prompt after formatting:\n",
            "\u001b[32;1m\u001b[1;3mYou are an AI who performs one task based on the following objective: Plan and refine a 3 day trip to San Francisco, I want to stay in a nice hotel, look at some art, and have a really good meal.. Take into account these previously completed tasks: ['Create a budget for the 3-day trip.', 'Research and book any necessary tours or guided activities.', 'Make a todo list', 'Research and compare prices, ratings, and reviews of hotels in San Francisco to determine the best option for the budget.', 'Plan an itinerary for the 3-day trip, taking into account any activities, attractions, transportation, and accommodation booked.']. Your task: Plan a budget for the 3-day trip.. Response:\u001b[0m\n",
            "\n",
            "\u001b[1m> Finished chain.\u001b[0m\n",
            "\u001b[93m\u001b[1m\n",
            "*****TASK RESULT*****\n",
            "\u001b[0m\u001b[0m\n",
            "\n",
            "\n",
            "I will plan a budget for the 3-day trip to San Francisco by taking into account the prices of the hotel, any tours or guided activities, transportation, and meals. I will also factor in any additional costs such as souvenirs or entertainment. I will then compare the total cost to the budget and make any necessary adjustments to ensure that the budget is met.\n",
            "\n",
            "\n",
            "\u001b[1m> Entering new TaskCreationChain chain...\u001b[0m\n",
            "Prompt after formatting:\n",
            "\u001b[32;1m\u001b[1;3mYou are an task creation AI that uses the result of an execution agent to create new tasks with the following objective: Plan and refine a 3 day trip to San Francisco, I want to stay in a nice hotel, look at some art, and have a really good meal., The last completed task has the result: \n",
            "\n",
            "I will plan a budget for the 3-day trip to San Francisco by taking into account the prices of the hotel, any tours or guided activities, transportation, and meals. I will also factor in any additional costs such as souvenirs or entertainment. I will then compare the total cost to the budget and make any necessary adjustments to ensure that the budget is met.. This result was based on this task description: Plan a budget for the 3-day trip.. These are incomplete tasks: Research and compare prices, ratings, and reviews of transportation options from the hotel to attractions in San Francisco., Research and compare prices, ratings, and reviews of activities and attractions in San Francisco., Research and compare prices, ratings, and reviews of art galleries and museums in San Francisco., Research and compare prices, ratings, and reviews of restaurants near the attractions in San Francisco., Research and compare prices, ratings, and reviews of entertainment options in San Francisco., Research and compare prices, ratings, and reviews of any additional activities to do in San Francisco., Make a list of any additional items needed for the trip., Make a list of any additional items to purchase for the trip., Make a list of emergency contacts to have on hand during the trip.. Based on the result, create new tasks to be completed by the AI system that do not overlap with incomplete tasks. Return the tasks as an array.\u001b[0m\n",
            "\n",
            "\u001b[1m> Finished chain.\u001b[0m\n",
            "\n",
            "\n",
            "\u001b[1m> Entering new TaskPrioritizationChain chain...\u001b[0m\n",
            "Prompt after formatting:\n",
            "\u001b[32;1m\u001b[1;3mYou are an task prioritization AI tasked with cleaning the formatting of and reprioritizing the following tasks: ['Research and compare prices, ratings, and reviews of transportation options from the hotel to attractions in San Francisco.', 'Research and compare prices, ratings, and reviews of activities and attractions in San Francisco.', 'Research and compare prices, ratings, and reviews of art galleries and museums in San Francisco.', 'Research and compare prices, ratings, and reviews of restaurants near the attractions in San Francisco.', 'Research and compare prices, ratings, and reviews of entertainment options in San Francisco.', 'Research and compare prices, ratings, and reviews of any additional activities to do in San Francisco.', 'Make a list of any additional items needed for the trip.', 'Make a list of any additional items to purchase for the trip.', 'Make a list of emergency contacts to have on hand during the trip.', 'The new tasks are: ', '1. Compare the budget to the total cost and make adjustments if necessary. ', '2. Create an itinerary of activities for each day of the trip. ', '3. Calculate the total cost of the trip, including hotel, transportation, meals, tours, and any additional costs. ', '4. Create a list of frequently asked questions about the trip, such as what to pack, what to expect, and any necessary precautions. ', '5. Research and compare prices, ratings, and reviews of hotels in San Francisco. ', '6. Research and compare prices, ratings, and reviews of souvenir shops in San Francisco. ', '7. Research and compare prices, ratings, and reviews of nightlife options in San Francisco. ', '8. Research and compare prices, ratings, and reviews of outdoor activities in San Francisco.']. Consider the ultimate objective of your team: Plan and refine a 3 day trip to San Francisco, I want to stay in a nice hotel, look at some art, and have a really good meal.. Do not remove any tasks. Return the result as a numbered list, like: #. First task #. Second task Start the task list with number 3.\u001b[0m\n",
            "\n",
            "\u001b[1m> Finished chain.\u001b[0m\n",
            "\u001b[95m\u001b[1m\n",
            "*****TASK LIST*****\n",
            "\u001b[0m\u001b[0m\n",
            "3: Research and compare prices, ratings, and reviews of hotels in San Francisco.\n",
            "4: Research and compare prices, ratings, and reviews of transportation options from the hotel to attractions in San Francisco.\n",
            "5: Research and compare prices, ratings, and reviews of activities and attractions in San Francisco.\n",
            "6: Research and compare prices, ratings, and reviews of art galleries and museums in San Francisco.\n",
            "7: Research and compare prices, ratings, and reviews of restaurants near the attractions in San Francisco.\n",
            "8: Research and compare prices, ratings, and reviews of entertainment options in San Francisco.\n",
            "9: Research and compare prices, ratings, and reviews of any additional activities to do in San Francisco.\n",
            "10: Research and compare prices, ratings, and reviews of souvenir shops in San Francisco.\n",
            "11: Research and compare prices, ratings, and reviews of nightlife options in San Francisco.\n",
            "12: Research and compare prices, ratings, and reviews of outdoor activities in San Francisco.\n",
            "13: Compare the budget to the total cost and make adjustments if necessary.\n",
            "14: Create an itinerary of activities for each day of the trip.\n",
            "15: Calculate the total cost of the trip, including hotel, transportation, meals\n",
            "\u001b[92m\u001b[1m\n",
            "*****NEXT TASK*****\n",
            "\u001b[0m\u001b[0m\n",
            "3: Research and compare prices, ratings, and reviews of hotels in San Francisco.\n",
            "\n",
            "\n",
            "\u001b[1m> Entering new ExecutionChain chain...\u001b[0m\n",
            "Prompt after formatting:\n",
            "\u001b[32;1m\u001b[1;3mYou are an AI who performs one task based on the following objective: Plan and refine a 3 day trip to San Francisco, I want to stay in a nice hotel, look at some art, and have a really good meal.. Take into account these previously completed tasks: ['Research and book any necessary tours or guided activities.', 'Make a todo list', 'Research and compare prices, ratings, and reviews of hotels in San Francisco to determine the best option for the budget.', 'Plan a budget for the 3-day trip.', 'Plan an itinerary for the 3-day trip, taking into account any activities, attractions, transportation, and accommodation booked.']. Your task: Research and compare prices, ratings, and reviews of hotels in San Francisco.. Response:\u001b[0m\n",
            "\n",
            "\u001b[1m> Finished chain.\u001b[0m\n",
            "\u001b[93m\u001b[1m\n",
            "*****TASK RESULT*****\n",
            "\u001b[0m\u001b[0m\n",
            "\n",
            "\n",
            "I will begin by researching the different hotels in San Francisco. I will compare prices, ratings, and reviews of these hotels to determine the best option for the budget. I will also take into account the location of the hotel, amenities offered, and any additional features that may be important to the traveler. I will also research any discounts or special offers that may be available. Once I have gathered all of this information, I will make a recommendation on the best hotel option for the budget.\n",
            "\n",
            "\n",
            "\u001b[1m> Entering new TaskCreationChain chain...\u001b[0m\n",
            "Prompt after formatting:\n",
            "\u001b[32;1m\u001b[1;3mYou are an task creation AI that uses the result of an execution agent to create new tasks with the following objective: Plan and refine a 3 day trip to San Francisco, I want to stay in a nice hotel, look at some art, and have a really good meal., The last completed task has the result: \n",
            "\n",
            "I will begin by researching the different hotels in San Francisco. I will compare prices, ratings, and reviews of these hotels to determine the best option for the budget. I will also take into account the location of the hotel, amenities offered, and any additional features that may be important to the traveler. I will also research any discounts or special offers that may be available. Once I have gathered all of this information, I will make a recommendation on the best hotel option for the budget.. This result was based on this task description: Research and compare prices, ratings, and reviews of hotels in San Francisco.. These are incomplete tasks: Research and compare prices, ratings, and reviews of transportation options from the hotel to attractions in San Francisco., Research and compare prices, ratings, and reviews of activities and attractions in San Francisco., Research and compare prices, ratings, and reviews of art galleries and museums in San Francisco., Research and compare prices, ratings, and reviews of restaurants near the attractions in San Francisco., Research and compare prices, ratings, and reviews of entertainment options in San Francisco., Research and compare prices, ratings, and reviews of any additional activities to do in San Francisco., Research and compare prices, ratings, and reviews of souvenir shops in San Francisco., Research and compare prices, ratings, and reviews of nightlife options in San Francisco., Research and compare prices, ratings, and reviews of outdoor activities in San Francisco., Compare the budget to the total cost and make adjustments if necessary., Create an itinerary of activities for each day of the trip., Calculate the total cost of the trip, including hotel, transportation, meals. Based on the result, create new tasks to be completed by the AI system that do not overlap with incomplete tasks. Return the tasks as an array.\u001b[0m\n",
            "\n",
            "\u001b[1m> Finished chain.\u001b[0m\n",
            "\n",
            "\n",
            "\u001b[1m> Entering new TaskPrioritizationChain chain...\u001b[0m\n",
            "Prompt after formatting:\n",
            "\u001b[32;1m\u001b[1;3mYou are an task prioritization AI tasked with cleaning the formatting of and reprioritizing the following tasks: ['Research and compare prices, ratings, and reviews of transportation options from the hotel to attractions in San Francisco.', 'Research and compare prices, ratings, and reviews of activities and attractions in San Francisco.', 'Research and compare prices, ratings, and reviews of art galleries and museums in San Francisco.', 'Research and compare prices, ratings, and reviews of restaurants near the attractions in San Francisco.', 'Research and compare prices, ratings, and reviews of entertainment options in San Francisco.', 'Research and compare prices, ratings, and reviews of any additional activities to do in San Francisco.', 'Research and compare prices, ratings, and reviews of souvenir shops in San Francisco.', 'Research and compare prices, ratings, and reviews of nightlife options in San Francisco.', 'Research and compare prices, ratings, and reviews of outdoor activities in San Francisco.', 'Compare the budget to the total cost and make adjustments if necessary.', 'Create an itinerary of activities for each day of the trip.', 'Calculate the total cost of the trip, including hotel, transportation, meals', 'Tasks: ', '1. Research and compare prices, ratings, and reviews of transportation options from the hotel to attractions in San Francisco.', '2. Research and compare prices, ratings, and reviews of activities and attractions in San Francisco.', '3. Research and compare prices, ratings, and reviews of art galleries and museums in San Francisco.', '4. Research and compare prices, ratings, and reviews of restaurants near the attractions in San Francisco.', '5. Research and compare prices, ratings, and reviews of entertainment options in San Francisco.', '6. Research and compare prices, ratings, and reviews of any additional activities to do in San Francisco.', '7. Research and compare prices, ratings, and reviews of souvenir shops in San Francisco.', '8. Research and compare prices, ratings, and reviews of nightlife options in San Francisco.', '9. Research and compare prices, ratings, and reviews of outdoor activities in San Francisco.', '10. Compare the budget to the total cost and make adjustments if necessary.', '11. Create an itinerary of activities for each day of the trip.', '12. Calculate the total cost of the trip, including hotel, transportation, meals.', '13. Research and compare prices, ratings, and reviews']. Consider the ultimate objective of your team: Plan and refine a 3 day trip to San Francisco, I want to stay in a nice hotel, look at some art, and have a really good meal.. Do not remove any tasks. Return the result as a numbered list, like: #. First task #. Second task Start the task list with number 4.\u001b[0m\n",
            "\n",
            "\u001b[1m> Finished chain.\u001b[0m\n",
            "\u001b[91m\u001b[1m\n",
            "*****TASK ENDING*****\n",
            "\u001b[0m\u001b[0m\n"
          ]
        },
        {
          "output_type": "execute_result",
          "data": {
            "text/plain": [
              "{'objective': 'Plan and refine a 3 day trip to San Francisco, I want to stay in a nice hotel, look at some art, and have a really good meal.'}"
            ]
          },
          "metadata": {},
          "execution_count": 54
        }
      ]
    }
  ]
}