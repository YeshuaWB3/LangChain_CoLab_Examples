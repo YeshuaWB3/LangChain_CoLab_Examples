{
  "nbformat": 4,
  "nbformat_minor": 0,
  "metadata": {
    "colab": {
      "provenance": [],
      "authorship_tag": "ABX9TyPOq/DFAJZTHFaIKdKzhyKZ",
      "include_colab_link": true
    },
    "kernelspec": {
      "name": "python3",
      "display_name": "Python 3"
    },
    "language_info": {
      "name": "python"
    }
  },
  "cells": [
    {
      "cell_type": "markdown",
      "metadata": {
        "id": "view-in-github",
        "colab_type": "text"
      },
      "source": [
        "<a href=\"https://colab.research.google.com/github/leegonzales/LangChainExamples/blob/main/CompanyRecon.ipynb\" target=\"_parent\"><img src=\"https://colab.research.google.com/assets/colab-badge.svg\" alt=\"Open In Colab\"/></a>"
      ]
    },
    {
      "cell_type": "code",
      "execution_count": null,
      "metadata": {
        "colab": {
          "base_uri": "https://localhost:8080/"
        },
        "id": "icMXn63poSKg",
        "outputId": "a53a194a-1bfa-42e7-b233-1c9cccd56c79"
      },
      "outputs": [
        {
          "output_type": "stream",
          "name": "stdout",
          "text": [
            "Looking in indexes: https://pypi.org/simple, https://us-python.pkg.dev/colab-wheels/public/simple/\n",
            "Collecting langchain\n",
            "  Downloading langchain-0.0.74-py3-none-any.whl (189 kB)\n",
            "\u001b[2K     \u001b[90m━━━━━━━━━━━━━━━━━━━━━━━━━━━━━━━━━━━━━━━\u001b[0m \u001b[32m189.7/189.7 KB\u001b[0m \u001b[31m4.5 MB/s\u001b[0m eta \u001b[36m0:00:00\u001b[0m\n",
            "\u001b[?25hRequirement already satisfied: requests in /usr/local/lib/python3.8/dist-packages (2.25.1)\n",
            "Collecting openai\n",
            "  Downloading openai-0.26.4.tar.gz (55 kB)\n",
            "\u001b[2K     \u001b[90m━━━━━━━━━━━━━━━━━━━━━━━━━━━━━━━━━━━━━━━━\u001b[0m \u001b[32m55.6/55.6 KB\u001b[0m \u001b[31m6.4 MB/s\u001b[0m eta \u001b[36m0:00:00\u001b[0m\n",
            "\u001b[?25h  Installing build dependencies ... \u001b[?25l\u001b[?25hdone\n",
            "  Getting requirements to build wheel ... \u001b[?25l\u001b[?25hdone\n",
            "  Installing backend dependencies ... \u001b[?25l\u001b[?25hdone\n",
            "  Preparing metadata (pyproject.toml) ... \u001b[?25l\u001b[?25hdone\n",
            "Collecting transformers\n",
            "  Downloading transformers-4.26.0-py3-none-any.whl (6.3 MB)\n",
            "\u001b[2K     \u001b[90m━━━━━━━━━━━━━━━━━━━━━━━━━━━━━━━━━━━━━━━━\u001b[0m \u001b[32m6.3/6.3 MB\u001b[0m \u001b[31m60.7 MB/s\u001b[0m eta \u001b[36m0:00:00\u001b[0m\n",
            "\u001b[?25hCollecting faiss-cpu\n",
            "  Downloading faiss_cpu-1.7.3-cp38-cp38-manylinux_2_17_x86_64.manylinux2014_x86_64.whl (17.0 MB)\n",
            "\u001b[2K     \u001b[90m━━━━━━━━━━━━━━━━━━━━━━━━━━━━━━━━━━━━━━━━\u001b[0m \u001b[32m17.0/17.0 MB\u001b[0m \u001b[31m72.5 MB/s\u001b[0m eta \u001b[36m0:00:00\u001b[0m\n",
            "\u001b[?25hRequirement already satisfied: PyYAML<7,>=6 in /usr/local/lib/python3.8/dist-packages (from langchain) (6.0)\n",
            "Requirement already satisfied: numpy<2,>=1 in /usr/local/lib/python3.8/dist-packages (from langchain) (1.21.6)\n",
            "Requirement already satisfied: pydantic<2,>=1 in /usr/local/lib/python3.8/dist-packages (from langchain) (1.10.4)\n",
            "Requirement already satisfied: SQLAlchemy<2,>=1 in /usr/local/lib/python3.8/dist-packages (from langchain) (1.4.46)\n",
            "Collecting dataclasses-json<0.6.0,>=0.5.7\n",
            "  Downloading dataclasses_json-0.5.7-py3-none-any.whl (25 kB)\n",
            "Requirement already satisfied: idna<3,>=2.5 in /usr/local/lib/python3.8/dist-packages (from requests) (2.10)\n",
            "Requirement already satisfied: chardet<5,>=3.0.2 in /usr/local/lib/python3.8/dist-packages (from requests) (4.0.0)\n",
            "Requirement already satisfied: urllib3<1.27,>=1.21.1 in /usr/local/lib/python3.8/dist-packages (from requests) (1.24.3)\n",
            "Requirement already satisfied: certifi>=2017.4.17 in /usr/local/lib/python3.8/dist-packages (from requests) (2022.12.7)\n",
            "Requirement already satisfied: aiohttp in /usr/local/lib/python3.8/dist-packages (from openai) (3.8.3)\n",
            "Requirement already satisfied: tqdm in /usr/local/lib/python3.8/dist-packages (from openai) (4.64.1)\n",
            "Collecting huggingface-hub<1.0,>=0.11.0\n",
            "  Downloading huggingface_hub-0.12.0-py3-none-any.whl (190 kB)\n",
            "\u001b[2K     \u001b[90m━━━━━━━━━━━━━━━━━━━━━━━━━━━━━━━━━━━━━━\u001b[0m \u001b[32m190.3/190.3 KB\u001b[0m \u001b[31m22.1 MB/s\u001b[0m eta \u001b[36m0:00:00\u001b[0m\n",
            "\u001b[?25hRequirement already satisfied: packaging>=20.0 in /usr/local/lib/python3.8/dist-packages (from transformers) (21.3)\n",
            "Collecting tokenizers!=0.11.3,<0.14,>=0.11.1\n",
            "  Downloading tokenizers-0.13.2-cp38-cp38-manylinux_2_17_x86_64.manylinux2014_x86_64.whl (7.6 MB)\n",
            "\u001b[2K     \u001b[90m━━━━━━━━━━━━━━━━━━━━━━━━━━━━━━━━━━━━━━━━\u001b[0m \u001b[32m7.6/7.6 MB\u001b[0m \u001b[31m99.0 MB/s\u001b[0m eta \u001b[36m0:00:00\u001b[0m\n",
            "\u001b[?25hRequirement already satisfied: regex!=2019.12.17 in /usr/local/lib/python3.8/dist-packages (from transformers) (2022.6.2)\n",
            "Requirement already satisfied: filelock in /usr/local/lib/python3.8/dist-packages (from transformers) (3.9.0)\n",
            "Requirement already satisfied: marshmallow<4.0.0,>=3.3.0 in /usr/local/lib/python3.8/dist-packages (from dataclasses-json<0.6.0,>=0.5.7->langchain) (3.19.0)\n",
            "Collecting typing-inspect>=0.4.0\n",
            "  Downloading typing_inspect-0.8.0-py3-none-any.whl (8.7 kB)\n",
            "Collecting marshmallow-enum<2.0.0,>=1.5.1\n",
            "  Downloading marshmallow_enum-1.5.1-py2.py3-none-any.whl (4.2 kB)\n",
            "Requirement already satisfied: typing-extensions>=3.7.4.3 in /usr/local/lib/python3.8/dist-packages (from huggingface-hub<1.0,>=0.11.0->transformers) (4.4.0)\n",
            "Requirement already satisfied: pyparsing!=3.0.5,>=2.0.2 in /usr/local/lib/python3.8/dist-packages (from packaging>=20.0->transformers) (3.0.9)\n",
            "Requirement already satisfied: greenlet!=0.4.17 in /usr/local/lib/python3.8/dist-packages (from SQLAlchemy<2,>=1->langchain) (2.0.1)\n",
            "Requirement already satisfied: async-timeout<5.0,>=4.0.0a3 in /usr/local/lib/python3.8/dist-packages (from aiohttp->openai) (4.0.2)\n",
            "Requirement already satisfied: frozenlist>=1.1.1 in /usr/local/lib/python3.8/dist-packages (from aiohttp->openai) (1.3.3)\n",
            "Requirement already satisfied: aiosignal>=1.1.2 in /usr/local/lib/python3.8/dist-packages (from aiohttp->openai) (1.3.1)\n",
            "Requirement already satisfied: yarl<2.0,>=1.0 in /usr/local/lib/python3.8/dist-packages (from aiohttp->openai) (1.8.2)\n",
            "Requirement already satisfied: multidict<7.0,>=4.5 in /usr/local/lib/python3.8/dist-packages (from aiohttp->openai) (6.0.4)\n",
            "Requirement already satisfied: attrs>=17.3.0 in /usr/local/lib/python3.8/dist-packages (from aiohttp->openai) (22.2.0)\n",
            "Requirement already satisfied: charset-normalizer<3.0,>=2.0 in /usr/local/lib/python3.8/dist-packages (from aiohttp->openai) (2.1.1)\n",
            "Collecting mypy-extensions>=0.3.0\n",
            "  Downloading mypy_extensions-0.4.3-py2.py3-none-any.whl (4.5 kB)\n",
            "Building wheels for collected packages: openai\n",
            "  Building wheel for openai (pyproject.toml) ... \u001b[?25l\u001b[?25hdone\n",
            "  Created wheel for openai: filename=openai-0.26.4-py3-none-any.whl size=67744 sha256=3d4fc2047045b5f2adfcdc88d39ce7a445aa2ab56d400a2627326244ab662816\n",
            "  Stored in directory: /root/.cache/pip/wheels/2b/d8/4e/268f029bd3277c1dd9e8781a0e0296e0a63822665bfa2429fc\n",
            "Successfully built openai\n",
            "Installing collected packages: tokenizers, mypy-extensions, faiss-cpu, typing-inspect, huggingface-hub, transformers, openai, marshmallow-enum, dataclasses-json, langchain\n",
            "Successfully installed dataclasses-json-0.5.7 faiss-cpu-1.7.3 huggingface-hub-0.12.0 langchain-0.0.74 marshmallow-enum-1.5.1 mypy-extensions-0.4.3 openai-0.26.4 tokenizers-0.13.2 transformers-4.26.0 typing-inspect-0.8.0\n"
          ]
        }
      ],
      "source": [
        "pip install langchain requests openai transformers faiss-cpu"
      ]
    },
    {
      "cell_type": "code",
      "source": [
        "from getpass import getpass\n",
        "OPENAI_API_KEY = getpass('Enter your OpenAI key: ')"
      ],
      "metadata": {
        "colab": {
          "base_uri": "https://localhost:8080/"
        },
        "id": "eDDLMNP6ChMF",
        "outputId": "4e9237e9-f8d3-417c-c8e8-507c1960f5ba"
      },
      "execution_count": null,
      "outputs": [
        {
          "name": "stdout",
          "output_type": "stream",
          "text": [
            "Enter your OpenAI key: ··········\n"
          ]
        }
      ]
    },
    {
      "cell_type": "code",
      "source": [
        "import os\n",
        "os.environ[\"OPENAI_API_KEY\"] = OPENAI_API_KEY"
      ],
      "metadata": {
        "id": "c_Fa6malpPy0"
      },
      "execution_count": null,
      "outputs": []
    },
    {
      "cell_type": "code",
      "source": [
        "from langchain.llms import OpenAI\n",
        "from langchain.chains.qa_with_sources import load_qa_with_sources_chain\n",
        "from langchain.docstore.document import Document\n",
        "from langchain.text_splitter import CharacterTextSplitter\n",
        "from langchain.embeddings.openai import OpenAIEmbeddings\n",
        "from langchain.vectorstores.faiss import FAISS\n",
        "import requests"
      ],
      "metadata": {
        "id": "FUUgX0HCozbe"
      },
      "execution_count": null,
      "outputs": []
    },
    {
      "cell_type": "code",
      "source": [
        "def get_wiki_data(title, first_paragraph_only):\n",
        "    url = f\"https://en.wikipedia.org/w/api.php?format=json&action=query&prop=extracts&explaintext=1&titles={title}\"\n",
        "    if first_paragraph_only:\n",
        "        url += \"&exintro=1\"\n",
        "    data = requests.get(url).json()\n",
        "    return Document(\n",
        "        page_content=list(data[\"query\"][\"pages\"].values())[0][\"extract\"],\n",
        "        metadata={\"source\": f\"https://en.wikipedia.org/wiki/{title}\"},\n",
        "    )\n"
      ],
      "metadata": {
        "id": "uk5LuTNUo3Hv"
      },
      "execution_count": null,
      "outputs": []
    },
    {
      "cell_type": "code",
      "source": [
        "import requests\n",
        "from bs4 import BeautifulSoup\n",
        "from urllib.parse import urlparse\n",
        "from time import sleep\n",
        "\n",
        "def get_page_text(url, depth=2, visited_links=None, max_links=10, cache=None, timeout=3):\n",
        "    \"\"\"\n",
        "    Recursively follow links on a webpage and return a list of documents of subsequent found pages.\n",
        "    :param url: The URL of the webpage to scrape\n",
        "    :param depth: The number of levels deep to recursively follow links. Default is 2.\n",
        "    :param visited_links: A set of links that have already been visited to prevent revisiting links\n",
        "    :param max_links: The maximum number of links to follow. Default is 50.\n",
        "    :param cache: A cache of links and their corresponding documents to prevent unnecessary web requests\n",
        "    :param timeout: Number of seconds to wait before timing out a request. Default is 5.\n",
        "    \"\"\"\n",
        "    # Initialize the visited links set if not provided\n",
        "    if visited_links is None:\n",
        "        visited_links = set()\n",
        "    if cache is None:\n",
        "        cache = {}\n",
        "    # Extract the root domain from the URL\n",
        "    parsed_uri = urlparse(url)\n",
        "    root_domain = '{uri.scheme}://{uri.netloc}/'.format(uri=parsed_uri)\n",
        "    # Check if the link has already been visited\n",
        "    if url in visited_links:\n",
        "        print(\"Hit in visited_links set: \", url)\n",
        "        return None\n",
        "    # Check if the link is in the cache\n",
        "    if url in cache:\n",
        "        print(\"Hit in cache set: \", url)\n",
        "        return cache[url]\n",
        "    \n",
        "    visited_links.add(url)\n",
        "    # Send a GET request to the URL and handle common errors\n",
        "    try:\n",
        "        print(\"Retrieving: \", url)\n",
        "        page = requests.get(url, timeout=timeout)\n",
        "        page.raise_for_status()\n",
        "    except requests.exceptions.RequestException as e:\n",
        "        print(f\"Error retrieving the webpage {url}: {str(e)}\")\n",
        "        return None\n",
        "    # parse the HTML and extract the text\n",
        "    soup = BeautifulSoup(page.text, 'html.parser')\n",
        "    text = soup.get_text()\n",
        "    # Add the link and its corresponding document to the cache\n",
        "    cache[url] = Document(text, {\"source\": url})\n",
        "    # Check if we have reached the maximum depth or maximum number of links to follow\n",
        "    if depth <= 0 or max_links <= 0:\n",
        "        return cache[url]\n",
        "    # Follow links on the webpage\n",
        "    links = []\n",
        "    for link in soup.find_all('a'):\n",
        "        href = link.get('href')\n",
        "        # Only follow links that are on the same root domain\n",
        "        if href and root_domain in href:\n",
        "            links.append(href)\n",
        "    # Follow the links recursively and space out the requests to avoid throttling\n",
        "    for link in links:\n",
        "        sleep(timeout)\n",
        "        doc = get_page_text(link, depth-1, visited_links, max_links-1, cache, timeout)\n",
        "        if doc:\n",
        "            cache[link] = doc\n",
        "    return cache[url]\n",
        "\n"
      ],
      "metadata": {
        "id": "tjjWZK3s-0xq"
      },
      "execution_count": null,
      "outputs": []
    },
    {
      "cell_type": "code",
      "source": [
        "\n",
        "#visited_links = set()\n",
        "#doc = get_page_text(\"https://www.betterup.com/en/about-us?hsLang=en\", depth=1, visited_links=visited_links)\n",
        "#print(doc.page_content)\n",
        "#print(doc.metadata)\n"
      ],
      "metadata": {
        "id": "uWWmbU20OJyE"
      },
      "execution_count": null,
      "outputs": []
    },
    {
      "cell_type": "code",
      "source": [
        "sources = [\n",
        "    get_page_text(\"https://www.betterup.com/en/about-us?hsLang=en\", depth=0),\n",
        "    get_page_text(\"https://www.betterup.com/about-us/leadership-team?hsLang=en\", depth=0),\n",
        "    get_page_text(\"https://www.betterup.com/about-us/careers\", depth=1),\n",
        "    get_page_text(\"https://www.betterup.com/blog/page/1\", depth=1),\n",
        "]"
      ],
      "metadata": {
        "colab": {
          "base_uri": "https://localhost:8080/"
        },
        "id": "Ltkzbm2nMaDN",
        "outputId": "f5adfec1-e81c-444b-aeaf-0c811928dfe8"
      },
      "execution_count": null,
      "outputs": [
        {
          "output_type": "stream",
          "name": "stdout",
          "text": [
            "Retrieving:  https://www.betterup.com/en/about-us?hsLang=en\n",
            "Retrieving:  https://www.betterup.com/about-us/leadership-team?hsLang=en\n",
            "Retrieving:  https://www.betterup.com/about-us/careers\n",
            "Retrieving:  https://www.betterup.com/?hsLang=en\n",
            "Hit in visited_links set:  https://www.betterup.com/?hsLang=en\n",
            "Retrieving:  https://www.betterup.com/products/betterup-lead?hsLang=en\n",
            "Retrieving:  https://www.betterup.com/solutions/betterup-care?hsLang=en\n",
            "Retrieving:  https://www.betterup.com/solutions/sales-performance?hsLang=en\n",
            "Retrieving:  https://www.betterup.com/solutions/diversity-inclusion-belonging?hsLang=en\n",
            "Retrieving:  https://www.betterup.com/customers?hsLang=en\n",
            "Retrieving:  https://www.betterup.com/for-individuals?hsLang=en\n",
            "Retrieving:  https://www.betterup.com/resources?hsLang=en\n",
            "Retrieving:  https://www.betterup.com/resources/events?hsLang=en\n",
            "Retrieving:  https://www.betterup.com/blog?hsLang=en\n",
            "Retrieving:  https://www.betterup.com/research?hsLang=en\n",
            "Retrieving:  https://www.betterup.com/about-us?hsLang=en\n",
            "Hit in visited_links set:  https://www.betterup.com/about-us/careers\n",
            "Retrieving:  https://www.betterup.com/about-us/news-and-press?hsLang=en\n",
            "Retrieving:  https://www.betterup.com/about-us/leadership-team?hsLang=en\n",
            "Hit in visited_links set:  https://www.betterup.com/?hsLang=en\n",
            "Hit in visited_links set:  https://www.betterup.com/products/betterup-lead?hsLang=en\n",
            "Hit in visited_links set:  https://www.betterup.com/solutions/betterup-care?hsLang=en\n",
            "Hit in visited_links set:  https://www.betterup.com/solutions/sales-performance?hsLang=en\n",
            "Hit in visited_links set:  https://www.betterup.com/solutions/diversity-inclusion-belonging?hsLang=en\n",
            "Hit in visited_links set:  https://www.betterup.com/customers?hsLang=en\n",
            "Hit in visited_links set:  https://www.betterup.com/for-individuals?hsLang=en\n",
            "Hit in visited_links set:  https://www.betterup.com/resources?hsLang=en\n",
            "Hit in visited_links set:  https://www.betterup.com/resources/events?hsLang=en\n",
            "Hit in visited_links set:  https://www.betterup.com/blog?hsLang=en\n",
            "Hit in visited_links set:  https://www.betterup.com/research?hsLang=en\n",
            "Hit in visited_links set:  https://www.betterup.com/about-us?hsLang=en\n",
            "Hit in visited_links set:  https://www.betterup.com/about-us/careers\n",
            "Hit in visited_links set:  https://www.betterup.com/about-us/news-and-press?hsLang=en\n",
            "Hit in visited_links set:  https://www.betterup.com/about-us/leadership-team?hsLang=en\n",
            "Retrieving:  https://www.betterup.com/about-us/careers?hsLang=en#open-roles\n",
            "Retrieving:  https://www.betterup.com/about-us/become-a-coach?hsLang=en\n",
            "Hit in visited_links set:  https://www.betterup.com/products/betterup-lead?hsLang=en\n",
            "Hit in visited_links set:  https://www.betterup.com/solutions/betterup-care?hsLang=en\n",
            "Hit in visited_links set:  https://www.betterup.com/solutions/sales-performance?hsLang=en\n",
            "Hit in visited_links set:  https://www.betterup.com/solutions/diversity-inclusion-belonging?hsLang=en\n",
            "Hit in visited_links set:  https://www.betterup.com/customers?hsLang=en\n",
            "Hit in visited_links set:  https://www.betterup.com/for-individuals?hsLang=en\n",
            "Hit in visited_links set:  https://www.betterup.com/about-us/news-and-press?hsLang=en\n",
            "Hit in visited_links set:  https://www.betterup.com/about-us/careers\n",
            "Hit in visited_links set:  https://www.betterup.com/blog?hsLang=en\n",
            "Hit in visited_links set:  https://www.betterup.com/research?hsLang=en\n",
            "Hit in visited_links set:  https://www.betterup.com/about-us/leadership-team?hsLang=en\n",
            "Hit in visited_links set:  https://www.betterup.com/about-us/become-a-coach?hsLang=en\n",
            "Retrieving:  https://www.betterup.com/legal-hub?hsLang=en\n",
            "Retrieving:  https://www.betterup.com/privacy-policy?hsLang=en\n",
            "Retrieving:  https://www.betterup.com/acceptable-use-policy?hsLang=en\n",
            "Retrieving:  https://www.betterup.com/trust-and-security?hsLang=en\n",
            "Retrieving:  https://www.betterup.com/de/home?hsLang=en\n",
            "Retrieving:  https://www.betterup.com/en-gb/?hsLang=en\n",
            "Retrieving:  https://www.betterup.com/fr/home?hsLang=en\n",
            "Hit in visited_links set:  https://www.betterup.com/de/home?hsLang=en\n",
            "Hit in visited_links set:  https://www.betterup.com/en-gb/?hsLang=en\n",
            "Hit in visited_links set:  https://www.betterup.com/fr/home?hsLang=en\n",
            "Retrieving:  https://www.betterup.com/blog/page/1\n",
            "Retrieving:  https://www.betterup.com/\n",
            "Hit in visited_links set:  https://www.betterup.com/\n",
            "Retrieving:  https://www.betterup.com/products/betterup-lead\n",
            "Retrieving:  https://www.betterup.com/solutions/betterup-care\n",
            "Retrieving:  https://www.betterup.com/solutions/sales-performance\n",
            "Retrieving:  https://www.betterup.com/solutions/diversity-inclusion-belonging\n",
            "Retrieving:  https://www.betterup.com/customers\n",
            "Retrieving:  https://www.betterup.com/for-individuals\n",
            "Retrieving:  https://www.betterup.com/resources\n",
            "Retrieving:  https://www.betterup.com/resources/events\n",
            "Retrieving:  https://www.betterup.com/blog\n",
            "Retrieving:  https://www.betterup.com/research\n",
            "Retrieving:  https://www.betterup.com/about-us\n",
            "Retrieving:  https://www.betterup.com/about-us/careers\n",
            "Retrieving:  https://www.betterup.com/about-us/news-and-press\n",
            "Retrieving:  https://www.betterup.com/about-us/leadership-team\n",
            "Hit in visited_links set:  https://www.betterup.com/\n",
            "Hit in visited_links set:  https://www.betterup.com/products/betterup-lead\n",
            "Hit in visited_links set:  https://www.betterup.com/solutions/betterup-care\n",
            "Hit in visited_links set:  https://www.betterup.com/solutions/sales-performance\n",
            "Hit in visited_links set:  https://www.betterup.com/solutions/diversity-inclusion-belonging\n",
            "Hit in visited_links set:  https://www.betterup.com/customers\n",
            "Hit in visited_links set:  https://www.betterup.com/for-individuals\n",
            "Hit in visited_links set:  https://www.betterup.com/resources\n",
            "Hit in visited_links set:  https://www.betterup.com/resources/events\n",
            "Hit in visited_links set:  https://www.betterup.com/blog\n",
            "Hit in visited_links set:  https://www.betterup.com/research\n",
            "Hit in visited_links set:  https://www.betterup.com/about-us\n",
            "Hit in visited_links set:  https://www.betterup.com/about-us/careers\n",
            "Hit in visited_links set:  https://www.betterup.com/about-us/news-and-press\n",
            "Hit in visited_links set:  https://www.betterup.com/about-us/leadership-team\n",
            "Retrieving:  https://www.betterup.com/blog/boredom-is-good\n",
            "Retrieving:  https://www.betterup.com/blog/401k-employer-match\n",
            "Retrieving:  https://www.betterup.com/blog/how-emotions-affect-learning\n",
            "Retrieving:  https://www.betterup.com/blog/trauma-in-the-workplace\n",
            "Retrieving:  https://www.betterup.com/blog/how-to-stop-self-pity\n",
            "Retrieving:  https://www.betterup.com/blog/offer-acceptance-email\n",
            "Retrieving:  https://www.betterup.com/blog/employee-engagement-tools\n",
            "Retrieving:  https://www.betterup.com/blog/does-exercise-help-with-anxiety\n",
            "Hit in visited_links set:  https://www.betterup.com/blog/page/1\n",
            "Retrieving:  https://www.betterup.com/blog/page/2\n",
            "Retrieving:  https://www.betterup.com/blog/page/3\n",
            "Retrieving:  https://www.betterup.com/blog/page/4\n",
            "Retrieving:  https://www.betterup.com/blog/page/5\n",
            "Hit in visited_links set:  https://www.betterup.com/blog/page/2\n",
            "Hit in visited_links set:  https://www.betterup.com/products/betterup-lead\n",
            "Hit in visited_links set:  https://www.betterup.com/solutions/betterup-care\n",
            "Hit in visited_links set:  https://www.betterup.com/solutions/sales-performance\n",
            "Hit in visited_links set:  https://www.betterup.com/solutions/diversity-inclusion-belonging\n",
            "Hit in visited_links set:  https://www.betterup.com/customers\n",
            "Hit in visited_links set:  https://www.betterup.com/for-individuals\n",
            "Hit in visited_links set:  https://www.betterup.com/about-us/news-and-press\n",
            "Hit in visited_links set:  https://www.betterup.com/about-us/careers\n",
            "Hit in visited_links set:  https://www.betterup.com/blog\n",
            "Hit in visited_links set:  https://www.betterup.com/research\n",
            "Hit in visited_links set:  https://www.betterup.com/about-us/leadership-team\n",
            "Retrieving:  https://www.betterup.com/about-us/become-a-coach\n",
            "Retrieving:  https://www.betterup.com/legal-hub\n",
            "Retrieving:  https://www.betterup.com/privacy-policy\n",
            "Retrieving:  https://www.betterup.com/acceptable-use-policy\n",
            "Retrieving:  https://www.betterup.com/trust-and-security\n",
            "Retrieving:  https://www.betterup.com/de/home\n",
            "Retrieving:  https://www.betterup.com/en-gb/\n",
            "Retrieving:  https://www.betterup.com/fr/home\n",
            "Hit in visited_links set:  https://www.betterup.com/de/home\n",
            "Hit in visited_links set:  https://www.betterup.com/en-gb/\n",
            "Hit in visited_links set:  https://www.betterup.com/fr/home\n"
          ]
        }
      ]
    },
    {
      "cell_type": "code",
      "source": [
        "source_chunks = []\n",
        "splitter = CharacterTextSplitter(separator=\" \", chunk_size=1024, chunk_overlap=0)\n",
        "for source in sources:\n",
        "    for chunk in splitter.split_text(source.page_content):\n",
        "        source_chunks.append(Document(page_content=chunk, metadata=source.metadata))\n",
        "\n",
        "search_index = FAISS.from_documents(source_chunks, OpenAIEmbeddings())"
      ],
      "metadata": {
        "id": "nHSNg1cfsSYe"
      },
      "execution_count": null,
      "outputs": []
    },
    {
      "cell_type": "code",
      "source": [
        "chain = load_qa_with_sources_chain(OpenAI(temperature=0))\n",
        "\n",
        "def print_answer(question):\n",
        "    print(\n",
        "        chain(\n",
        "            {\n",
        "                \"input_documents\": search_index.similarity_search(question, k=4),\n",
        "                \"question\": question,\n",
        "            },\n",
        "            return_only_outputs=False,\n",
        "        )[\"output_text\"]\n",
        "    )"
      ],
      "metadata": {
        "id": "6XUK7Rlwrto6"
      },
      "execution_count": null,
      "outputs": []
    },
    {
      "cell_type": "code",
      "source": [
        "print_answer(\"Who are all of the VPs at BetterUP?\")"
      ],
      "metadata": {
        "colab": {
          "base_uri": "https://localhost:8080/"
        },
        "id": "YQ_SHC5Nptmk",
        "outputId": "82eba1ae-e9d1-4df4-d2b4-81e837126a5b"
      },
      "execution_count": null,
      "outputs": [
        {
          "output_type": "stream",
          "name": "stdout",
          "text": [
            " The VPs at BetterUP are Tom Patterson (SVP, Corporate Development & Strategy), Brad McCracken (SVP, Worldwide Sales), Armen Berjikly (VP, Product), Preeya Voss (VP, Sales, North America), Duke Daehling (VP, Sales), Erik Darby (VP, Business Development), Shonna Waters, PhD (VP, Alliance Solutions), Karen Lai (VP, Field), Evelyn Kim (VP, Product Design), Dr. Christine Carter (VP, Learning Experience Design), Katie Coupe (VP, People), Allison Yost (VP, BetterUp Labs), Adam Lavezzo (VP, Revenue Operations), Cameran Hetrick (VP, Analytics), Meredith Speece (Director of Legal and Privacy), and Chanel Fanaberia (VP, Operations).\n",
            "SOURCES: https://www.betterup.com/about-us/leadership-team?hsLang=en, https://www.betterup.com/en/about-us?hsLang=en\n"
          ]
        }
      ]
    },
    {
      "cell_type": "code",
      "source": [
        "print_answer(\"How many VPs are men vs women? List the woman, list the men. Emit as a markdown table\")"
      ],
      "metadata": {
        "colab": {
          "base_uri": "https://localhost:8080/"
        },
        "id": "m2dkvUFapx16",
        "outputId": "f9302df5-483e-486e-e912-60769b4cc203"
      },
      "execution_count": null,
      "outputs": [
        {
          "output_type": "stream",
          "name": "stdout",
          "text": [
            " There are 8 male VPs and 6 female VPs. The male VPs are Tom Patterson, Brad McCracken, Armen Berjikly, Duke Daehling, Erik Darby, Adam Lavezzo, Cameran Hetrick, and Alexi Robichaux. The female VPs are Preeya Voss, Shonna Waters, Karen Lai, Evelyn Kim, Dr. Christine Carter, Katie Coupe, Allison Yost, and Cindy Goodrich.\n",
            "\n",
            "| Male VPs | Female VPs |\n",
            "| -------- | ---------- |\n",
            "| Tom Patterson | Preeya Voss |\n",
            "| Brad McCracken | Shonna Waters |\n",
            "| Armen Berjikly | Karen Lai |\n",
            "| Duke Daehling | Evelyn Kim |\n",
            "| Erik Darby | Dr. Christine Carter |\n",
            "| Adam Lavezzo | Katie Coupe |\n",
            "| Cameran Hetrick | Allison Yost |\n",
            "| Alexi Robichaux | Cindy Goodrich |\n",
            "\n",
            "SOURCES: https://www.betterup.com/about-us/leadership-team?hsLang=en\n"
          ]
        }
      ]
    },
    {
      "cell_type": "code",
      "source": [
        "print_answer(\"What are all of the ways coaching can help people?\")"
      ],
      "metadata": {
        "colab": {
          "base_uri": "https://localhost:8080/"
        },
        "id": "6ybi6U5PQJ70",
        "outputId": "52fedd19-680d-47ab-bbb6-155349a386a5"
      },
      "execution_count": null,
      "outputs": [
        {
          "output_type": "stream",
          "name": "stdout",
          "text": [
            " Coaching can help people by providing support, guidance, and accountability to help them reach their goals, build resilience, and develop skills to manage stress and anxiety.\n",
            "SOURCES: https://www.betterup.com/blog/page/1\n"
          ]
        }
      ]
    },
    {
      "cell_type": "code",
      "source": [
        "print_answer(\"What is Better UP?\")"
      ],
      "metadata": {
        "colab": {
          "base_uri": "https://localhost:8080/"
        },
        "id": "ZURHlLgs5NQn",
        "outputId": "ba93f644-f284-48af-9e8a-8e6f8a89058d"
      },
      "execution_count": null,
      "outputs": [
        {
          "output_type": "stream",
          "name": "stdout",
          "text": [
            " BetterUp is a coaching and Care platform that helps organizations build a happier, healthier workforce that fuels business growth. It provides world-class coaching, AI technology, and behavioral science experts to deliver change at scale, improving individual resilience, adaptability, and effectiveness.\n",
            "SOURCES: https://www.betterup.com/en/about-us?hsLang=en, https://www.betterup.com/about-us/careers\n"
          ]
        }
      ]
    }
  ]
}